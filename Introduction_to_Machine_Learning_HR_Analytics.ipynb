{
  "nbformat": 4,
  "nbformat_minor": 0,
  "metadata": {
    "colab": {
      "name": "Introduction to Machine Learning:  HR Analytics",
      "provenance": [],
      "collapsed_sections": [],
      "toc_visible": true
    },
    "kernelspec": {
      "display_name": "Python 3",
      "language": "python",
      "name": "python3"
    },
    "language_info": {
      "codemirror_mode": {
        "name": "ipython",
        "version": 3
      },
      "file_extension": ".py",
      "mimetype": "text/x-python",
      "name": "python",
      "nbconvert_exporter": "python",
      "pygments_lexer": "ipython3",
      "version": "3.7.4"
    }
  },
  "cells": [
    {
      "cell_type": "markdown",
      "metadata": {
        "id": "czJUgQ-6cA_p"
      },
      "source": [
        "#  AfterWork: Introduction to Machine Learning:  HR Evaluation Process"
      ]
    },
    {
      "cell_type": "markdown",
      "metadata": {
        "id": "gLkzO7IdcA_r"
      },
      "source": [
        "## 1. Defining the Question"
      ]
    },
    {
      "cell_type": "markdown",
      "metadata": {
        "id": "JABkWE3JcA_s"
      },
      "source": [
        "### a) Specifying the Data Analysis Question"
      ]
    },
    {
      "cell_type": "markdown",
      "metadata": {
        "id": "1sGZ56H7cA_t"
      },
      "source": [
        "The task is to predict whether a potential promotee at a\n",
        "checkpoint will be promoted or not after the evaluation process\n"
      ]
    },
    {
      "cell_type": "markdown",
      "metadata": {
        "id": "8XxsPjnQcA_t"
      },
      "source": [
        "### b) Defining the Metric for Success"
      ]
    },
    {
      "cell_type": "markdown",
      "metadata": {
        "id": "100AFlNtcA_u"
      },
      "source": [
        "We will have accomplished our objective if our prediction is accurate in picking potential promotees"
      ]
    },
    {
      "cell_type": "markdown",
      "metadata": {
        "id": "SrzhnVvbcA_v"
      },
      "source": [
        "### c) Understanding the Context"
      ]
    },
    {
      "cell_type": "markdown",
      "metadata": {
        "id": "ehi1alkgcA_v"
      },
      "source": [
        "The client is a large Multinational Corporation, and they have nine broad verticals\n",
        "across the organization. \n",
        "One of the problems the client faces is identifying the right\n",
        "people for promotion (only for the manager position and below) and preparing them in\n",
        "time.\n",
        "\n",
        "Currently the process, is as follows:\n",
        "1. They first identify a set of employees based on recommendations/ past\n",
        "performance.\n",
        "2. Selected employees go through the separate training and evaluation program for\n",
        "each vertical.\n",
        "3. These programs are based on the required skill of each vertical. At the end of the\n",
        "program, based on various factors such as training performance, KPI completion\n",
        "(only employees with KPIs completed greater than 80% are considered) etc., the\n",
        "employee gets a promotion.\n",
        "\n",
        "For the process mentioned above, the final promotions are only announced after the\n",
        "evaluation, and this leads to a delay in transition to their new roles. Hence, the company\n",
        "needs help in identifying the eligible candidates at a particular checkpoint so that\n",
        "they can expedite the entire promotion cycle\n",
        "\n"
      ]
    },
    {
      "cell_type": "markdown",
      "metadata": {
        "id": "IV0fyMl_cA_w"
      },
      "source": [
        "### d) Recording the Experimental Design"
      ]
    },
    {
      "cell_type": "markdown",
      "metadata": {
        "id": "2-crdiQgcA_x"
      },
      "source": [
        "1. Load libraries and datasets.\n",
        "2. Prepare the data\n",
        "3. Analyze the data\n",
        "4. Machine learning modelling \n",
        "5. Predictions \n",
        "6. Conclusions and recommedation"
      ]
    },
    {
      "cell_type": "markdown",
      "metadata": {
        "id": "rz5Qg2aocA_x"
      },
      "source": [
        "### e) Data Relevance"
      ]
    },
    {
      "cell_type": "markdown",
      "metadata": {
        "id": "y3c-bdsRcA_y"
      },
      "source": [
        "The given data sets were relevant in answering the research question."
      ]
    },
    {
      "cell_type": "markdown",
      "metadata": {
        "id": "jefIDLCVcA_z"
      },
      "source": [
        "## 2. Data Cleaning & Analysis"
      ]
    },
    {
      "cell_type": "markdown",
      "metadata": {
        "id": "lik2LTbnah-x"
      },
      "source": [
        "###2.1.   Data cleaning & exploration"
      ]
    },
    {
      "cell_type": "code",
      "metadata": {
        "id": "jx0bMH04F0B5"
      },
      "source": [
        "# Loading the required libraries\n",
        "\n",
        "import pandas as pd\n",
        "import numpy as np\n",
        "import matplotlib.pyplot as plt\n",
        "import seaborn as sns\n",
        "\n",
        "# To preview all rows and columns\n",
        "pd.set_option('display.max_columns', None)\n",
        "pd.set_option('display.max_rows', None)"
      ],
      "execution_count": 2,
      "outputs": []
    },
    {
      "cell_type": "code",
      "metadata": {
        "id": "w0gA_iL2asUQ"
      },
      "source": [
        "# Setting the dataset url\n",
        "hr_url = 'https://drive.google.com/file/d/1vr6xb-_bIDSLO7N0BsrUzQT6YcDtBA89/view?usp=sharing'"
      ],
      "execution_count": 38,
      "outputs": []
    },
    {
      "cell_type": "code",
      "metadata": {
        "id": "bL3nzNOsGN4u"
      },
      "source": [
        "# Loading the dataset\n",
        "df = pd.read_csv('https://drive.google.com/uc?id='+hr_url.split('/')[-2],low_memory=False)"
      ],
      "execution_count": 39,
      "outputs": []
    },
    {
      "cell_type": "code",
      "metadata": {
        "id": "xNcUO9TmGQY9",
        "colab": {
          "base_uri": "https://localhost:8080/",
          "height": 295
        },
        "outputId": "baccb749-5c83-42ee-ed71-c61433a15f7c"
      },
      "source": [
        "# Previewing the first 5 records\n",
        "df.head()"
      ],
      "execution_count": 40,
      "outputs": [
        {
          "output_type": "execute_result",
          "data": {
            "text/html": [
              "<div>\n",
              "<style scoped>\n",
              "    .dataframe tbody tr th:only-of-type {\n",
              "        vertical-align: middle;\n",
              "    }\n",
              "\n",
              "    .dataframe tbody tr th {\n",
              "        vertical-align: top;\n",
              "    }\n",
              "\n",
              "    .dataframe thead th {\n",
              "        text-align: right;\n",
              "    }\n",
              "</style>\n",
              "<table border=\"1\" class=\"dataframe\">\n",
              "  <thead>\n",
              "    <tr style=\"text-align: right;\">\n",
              "      <th></th>\n",
              "      <th>employee_id</th>\n",
              "      <th>department</th>\n",
              "      <th>region</th>\n",
              "      <th>education</th>\n",
              "      <th>gender</th>\n",
              "      <th>recruitment_channel</th>\n",
              "      <th>no_of_trainings</th>\n",
              "      <th>age</th>\n",
              "      <th>previous_year_rating</th>\n",
              "      <th>length_of_service</th>\n",
              "      <th>KPIs_met &gt;80%</th>\n",
              "      <th>awards_won?</th>\n",
              "      <th>avg_training_score</th>\n",
              "      <th>is_promoted</th>\n",
              "    </tr>\n",
              "  </thead>\n",
              "  <tbody>\n",
              "    <tr>\n",
              "      <th>0</th>\n",
              "      <td>65438</td>\n",
              "      <td>Sales &amp; Marketing</td>\n",
              "      <td>region_7</td>\n",
              "      <td>Master's &amp; above</td>\n",
              "      <td>f</td>\n",
              "      <td>sourcing</td>\n",
              "      <td>1</td>\n",
              "      <td>35</td>\n",
              "      <td>5.0</td>\n",
              "      <td>8</td>\n",
              "      <td>1</td>\n",
              "      <td>0</td>\n",
              "      <td>49</td>\n",
              "      <td>0</td>\n",
              "    </tr>\n",
              "    <tr>\n",
              "      <th>1</th>\n",
              "      <td>65141</td>\n",
              "      <td>Operations</td>\n",
              "      <td>region_22</td>\n",
              "      <td>Bachelor's</td>\n",
              "      <td>m</td>\n",
              "      <td>other</td>\n",
              "      <td>1</td>\n",
              "      <td>30</td>\n",
              "      <td>5.0</td>\n",
              "      <td>4</td>\n",
              "      <td>0</td>\n",
              "      <td>0</td>\n",
              "      <td>60</td>\n",
              "      <td>0</td>\n",
              "    </tr>\n",
              "    <tr>\n",
              "      <th>2</th>\n",
              "      <td>7513</td>\n",
              "      <td>Sales &amp; Marketing</td>\n",
              "      <td>region_19</td>\n",
              "      <td>Bachelor's</td>\n",
              "      <td>m</td>\n",
              "      <td>sourcing</td>\n",
              "      <td>1</td>\n",
              "      <td>34</td>\n",
              "      <td>3.0</td>\n",
              "      <td>7</td>\n",
              "      <td>0</td>\n",
              "      <td>0</td>\n",
              "      <td>50</td>\n",
              "      <td>0</td>\n",
              "    </tr>\n",
              "    <tr>\n",
              "      <th>3</th>\n",
              "      <td>2542</td>\n",
              "      <td>Sales &amp; Marketing</td>\n",
              "      <td>region_23</td>\n",
              "      <td>Bachelor's</td>\n",
              "      <td>m</td>\n",
              "      <td>other</td>\n",
              "      <td>2</td>\n",
              "      <td>39</td>\n",
              "      <td>1.0</td>\n",
              "      <td>10</td>\n",
              "      <td>0</td>\n",
              "      <td>0</td>\n",
              "      <td>50</td>\n",
              "      <td>0</td>\n",
              "    </tr>\n",
              "    <tr>\n",
              "      <th>4</th>\n",
              "      <td>48945</td>\n",
              "      <td>Technology</td>\n",
              "      <td>region_26</td>\n",
              "      <td>Bachelor's</td>\n",
              "      <td>m</td>\n",
              "      <td>other</td>\n",
              "      <td>1</td>\n",
              "      <td>45</td>\n",
              "      <td>3.0</td>\n",
              "      <td>2</td>\n",
              "      <td>0</td>\n",
              "      <td>0</td>\n",
              "      <td>73</td>\n",
              "      <td>0</td>\n",
              "    </tr>\n",
              "  </tbody>\n",
              "</table>\n",
              "</div>"
            ],
            "text/plain": [
              "   employee_id         department     region         education gender  \\\n",
              "0        65438  Sales & Marketing   region_7  Master's & above      f   \n",
              "1        65141         Operations  region_22        Bachelor's      m   \n",
              "2         7513  Sales & Marketing  region_19        Bachelor's      m   \n",
              "3         2542  Sales & Marketing  region_23        Bachelor's      m   \n",
              "4        48945         Technology  region_26        Bachelor's      m   \n",
              "\n",
              "  recruitment_channel  no_of_trainings  age  previous_year_rating  \\\n",
              "0            sourcing                1   35                   5.0   \n",
              "1               other                1   30                   5.0   \n",
              "2            sourcing                1   34                   3.0   \n",
              "3               other                2   39                   1.0   \n",
              "4               other                1   45                   3.0   \n",
              "\n",
              "   length_of_service  KPIs_met >80%  awards_won?  avg_training_score  \\\n",
              "0                  8              1            0                  49   \n",
              "1                  4              0            0                  60   \n",
              "2                  7              0            0                  50   \n",
              "3                 10              0            0                  50   \n",
              "4                  2              0            0                  73   \n",
              "\n",
              "   is_promoted  \n",
              "0            0  \n",
              "1            0  \n",
              "2            0  \n",
              "3            0  \n",
              "4            0  "
            ]
          },
          "metadata": {},
          "execution_count": 40
        }
      ]
    },
    {
      "cell_type": "code",
      "metadata": {
        "colab": {
          "base_uri": "https://localhost:8080/",
          "height": 167
        },
        "id": "vCBB5qYWEAKY",
        "outputId": "ada84d47-960b-481e-ebc4-bc9f1fb06c37"
      },
      "source": [
        "#standardization of column names\n",
        "df.columns = df.columns.str.strip().str.lower().str.replace(')','').str.replace('?','')\n",
        "df.head(2)"
      ],
      "execution_count": 45,
      "outputs": [
        {
          "output_type": "execute_result",
          "data": {
            "text/html": [
              "<div>\n",
              "<style scoped>\n",
              "    .dataframe tbody tr th:only-of-type {\n",
              "        vertical-align: middle;\n",
              "    }\n",
              "\n",
              "    .dataframe tbody tr th {\n",
              "        vertical-align: top;\n",
              "    }\n",
              "\n",
              "    .dataframe thead th {\n",
              "        text-align: right;\n",
              "    }\n",
              "</style>\n",
              "<table border=\"1\" class=\"dataframe\">\n",
              "  <thead>\n",
              "    <tr style=\"text-align: right;\">\n",
              "      <th></th>\n",
              "      <th>employee_id</th>\n",
              "      <th>department</th>\n",
              "      <th>region</th>\n",
              "      <th>education</th>\n",
              "      <th>gender</th>\n",
              "      <th>recruitment_channel</th>\n",
              "      <th>no_of_trainings</th>\n",
              "      <th>age</th>\n",
              "      <th>previous_year_rating</th>\n",
              "      <th>length_of_service</th>\n",
              "      <th>kpis_met &gt;80%</th>\n",
              "      <th>awards_won</th>\n",
              "      <th>avg_training_score</th>\n",
              "      <th>is_promoted</th>\n",
              "    </tr>\n",
              "  </thead>\n",
              "  <tbody>\n",
              "    <tr>\n",
              "      <th>0</th>\n",
              "      <td>65438</td>\n",
              "      <td>Sales &amp; Marketing</td>\n",
              "      <td>region_7</td>\n",
              "      <td>Master's &amp; above</td>\n",
              "      <td>f</td>\n",
              "      <td>sourcing</td>\n",
              "      <td>1</td>\n",
              "      <td>35</td>\n",
              "      <td>5.0</td>\n",
              "      <td>8</td>\n",
              "      <td>1</td>\n",
              "      <td>0</td>\n",
              "      <td>49</td>\n",
              "      <td>0</td>\n",
              "    </tr>\n",
              "    <tr>\n",
              "      <th>1</th>\n",
              "      <td>65141</td>\n",
              "      <td>Operations</td>\n",
              "      <td>region_22</td>\n",
              "      <td>Bachelor's</td>\n",
              "      <td>m</td>\n",
              "      <td>other</td>\n",
              "      <td>1</td>\n",
              "      <td>30</td>\n",
              "      <td>5.0</td>\n",
              "      <td>4</td>\n",
              "      <td>0</td>\n",
              "      <td>0</td>\n",
              "      <td>60</td>\n",
              "      <td>0</td>\n",
              "    </tr>\n",
              "  </tbody>\n",
              "</table>\n",
              "</div>"
            ],
            "text/plain": [
              "   employee_id         department     region         education gender  \\\n",
              "0        65438  Sales & Marketing   region_7  Master's & above      f   \n",
              "1        65141         Operations  region_22        Bachelor's      m   \n",
              "\n",
              "  recruitment_channel  no_of_trainings  age  previous_year_rating  \\\n",
              "0            sourcing                1   35                   5.0   \n",
              "1               other                1   30                   5.0   \n",
              "\n",
              "   length_of_service  kpis_met >80%  awards_won  avg_training_score  \\\n",
              "0                  8              1           0                  49   \n",
              "1                  4              0           0                  60   \n",
              "\n",
              "   is_promoted  \n",
              "0            0  \n",
              "1            0  "
            ]
          },
          "metadata": {},
          "execution_count": 45
        }
      ]
    },
    {
      "cell_type": "code",
      "metadata": {
        "id": "Rtk-KKTPLmmd",
        "colab": {
          "base_uri": "https://localhost:8080/"
        },
        "outputId": "896025ce-9b2f-4c69-845c-9f66e3cacd29"
      },
      "source": [
        "# Getting our dataset shape\n",
        "\n",
        "df.shape\n",
        "\n",
        "#dataframe has 54808 rows and 14 columns\n"
      ],
      "execution_count": 46,
      "outputs": [
        {
          "output_type": "execute_result",
          "data": {
            "text/plain": [
              "(54808, 14)"
            ]
          },
          "metadata": {},
          "execution_count": 46
        }
      ]
    },
    {
      "cell_type": "code",
      "metadata": {
        "id": "8lNBkI-OrR7C",
        "colab": {
          "base_uri": "https://localhost:8080/"
        },
        "outputId": "bad2a255-bd3e-4210-cab6-415ff45f382d"
      },
      "source": [
        "# Looking for duplicates\n",
        "df.duplicated().sum()\n",
        "\n",
        "#there are no duplicate values "
      ],
      "execution_count": 47,
      "outputs": [
        {
          "output_type": "execute_result",
          "data": {
            "text/plain": [
              "0"
            ]
          },
          "metadata": {},
          "execution_count": 47
        }
      ]
    },
    {
      "cell_type": "code",
      "metadata": {
        "colab": {
          "base_uri": "https://localhost:8080/"
        },
        "id": "Xxztejv3Joyz",
        "outputId": "87f8ac03-61bf-40bf-fcd0-54e09d695421"
      },
      "source": [
        "df.dtypes"
      ],
      "execution_count": 48,
      "outputs": [
        {
          "output_type": "execute_result",
          "data": {
            "text/plain": [
              "employee_id               int64\n",
              "department               object\n",
              "region                   object\n",
              "education                object\n",
              "gender                   object\n",
              "recruitment_channel      object\n",
              "no_of_trainings           int64\n",
              "age                       int64\n",
              "previous_year_rating    float64\n",
              "length_of_service         int64\n",
              "kpis_met >80%             int64\n",
              "awards_won                int64\n",
              "avg_training_score        int64\n",
              "is_promoted               int64\n",
              "dtype: object"
            ]
          },
          "metadata": {},
          "execution_count": 48
        }
      ]
    },
    {
      "cell_type": "code",
      "metadata": {
        "id": "6uuZbJSPz79W",
        "colab": {
          "base_uri": "https://localhost:8080/"
        },
        "outputId": "a33c72a3-b184-4e07-9629-cccfc2dbe668"
      },
      "source": [
        "# Looking for null values \n",
        "\n",
        "df.isnull().sum()\n",
        "\n",
        "#2 columns are missing some observations: education & previous year rating "
      ],
      "execution_count": 49,
      "outputs": [
        {
          "output_type": "execute_result",
          "data": {
            "text/plain": [
              "employee_id                0\n",
              "department                 0\n",
              "region                     0\n",
              "education               2409\n",
              "gender                     0\n",
              "recruitment_channel        0\n",
              "no_of_trainings            0\n",
              "age                        0\n",
              "previous_year_rating    4124\n",
              "length_of_service          0\n",
              "kpis_met >80%              0\n",
              "awards_won                 0\n",
              "avg_training_score         0\n",
              "is_promoted                0\n",
              "dtype: int64"
            ]
          },
          "metadata": {},
          "execution_count": 49
        }
      ]
    },
    {
      "cell_type": "code",
      "metadata": {
        "id": "1PoaRtRu0WMq",
        "colab": {
          "base_uri": "https://localhost:8080/"
        },
        "outputId": "9f45c5b7-f18e-4963-ff5b-e0797cd222dd"
      },
      "source": [
        "# A closer inspection of the missing observations \n",
        "\n",
        "df[df['education'].isnull()].head()\n",
        "df['education'] = df['education'].fillna(df['education'].mode()[0])\n",
        "df.isnull().sum()\n",
        "\n",
        "#fill missing education values with the most appearing observations"
      ],
      "execution_count": 50,
      "outputs": [
        {
          "output_type": "execute_result",
          "data": {
            "text/plain": [
              "employee_id                0\n",
              "department                 0\n",
              "region                     0\n",
              "education                  0\n",
              "gender                     0\n",
              "recruitment_channel        0\n",
              "no_of_trainings            0\n",
              "age                        0\n",
              "previous_year_rating    4124\n",
              "length_of_service          0\n",
              "kpis_met >80%              0\n",
              "awards_won                 0\n",
              "avg_training_score         0\n",
              "is_promoted                0\n",
              "dtype: int64"
            ]
          },
          "metadata": {},
          "execution_count": 50
        }
      ]
    },
    {
      "cell_type": "code",
      "metadata": {
        "colab": {
          "base_uri": "https://localhost:8080/"
        },
        "id": "1p8O9cy_ICNR",
        "outputId": "1a906a5f-f1c1-4fcb-ea20-022d49d55156"
      },
      "source": [
        "# A closer inspection of the missing observations \n",
        "\n",
        "df[df['previous_year_rating'].isnull()].head()\n",
        "df['previous_year_rating'].fillna(df['previous_year_rating'].median(), inplace=True)\n",
        "df.isnull().sum()\n",
        "\n",
        "#replace missing previous year rating values with median value"
      ],
      "execution_count": 51,
      "outputs": [
        {
          "output_type": "execute_result",
          "data": {
            "text/plain": [
              "employee_id             0\n",
              "department              0\n",
              "region                  0\n",
              "education               0\n",
              "gender                  0\n",
              "recruitment_channel     0\n",
              "no_of_trainings         0\n",
              "age                     0\n",
              "previous_year_rating    0\n",
              "length_of_service       0\n",
              "kpis_met >80%           0\n",
              "awards_won              0\n",
              "avg_training_score      0\n",
              "is_promoted             0\n",
              "dtype: int64"
            ]
          },
          "metadata": {},
          "execution_count": 51
        }
      ]
    },
    {
      "cell_type": "code",
      "metadata": {
        "colab": {
          "base_uri": "https://localhost:8080/"
        },
        "id": "3pxPN6cCOhuR",
        "outputId": "2fd3c3d0-8719-433f-cc0d-461256fdccfb"
      },
      "source": [
        "#converting to int type\n",
        "\n",
        "df['previous_year_rating']=df['previous_year_rating'].apply(np.int64)\n",
        "df.dtypes"
      ],
      "execution_count": 52,
      "outputs": [
        {
          "output_type": "execute_result",
          "data": {
            "text/plain": [
              "employee_id              int64\n",
              "department              object\n",
              "region                  object\n",
              "education               object\n",
              "gender                  object\n",
              "recruitment_channel     object\n",
              "no_of_trainings          int64\n",
              "age                      int64\n",
              "previous_year_rating     int64\n",
              "length_of_service        int64\n",
              "kpis_met >80%            int64\n",
              "awards_won               int64\n",
              "avg_training_score       int64\n",
              "is_promoted              int64\n",
              "dtype: object"
            ]
          },
          "metadata": {},
          "execution_count": 52
        }
      ]
    },
    {
      "cell_type": "markdown",
      "metadata": {
        "id": "pLztOGDtbrSP"
      },
      "source": [
        "### 2.2. General Analysis"
      ]
    },
    {
      "cell_type": "code",
      "metadata": {
        "colab": {
          "base_uri": "https://localhost:8080/"
        },
        "id": "Nr60C4gtR7Rg",
        "outputId": "ca341c7f-d996-45f6-e14a-a8564703a4f0"
      },
      "source": [
        "df['is_promoted'].count()\n",
        "# there are 54808 employees who were either promoted or not "
      ],
      "execution_count": 53,
      "outputs": [
        {
          "output_type": "execute_result",
          "data": {
            "text/plain": [
              "54808"
            ]
          },
          "metadata": {},
          "execution_count": 53
        }
      ]
    },
    {
      "cell_type": "code",
      "metadata": {
        "colab": {
          "base_uri": "https://localhost:8080/"
        },
        "id": "WcRPSfmZRNpn",
        "outputId": "9c638eef-0ccd-4875-e1ff-12c3aca4eb31"
      },
      "source": [
        "df['is_promoted'].value_counts()\n",
        "#91% of customers were not promoted whereas 8% were promoted "
      ],
      "execution_count": 54,
      "outputs": [
        {
          "output_type": "execute_result",
          "data": {
            "text/plain": [
              "0    50140\n",
              "1     4668\n",
              "Name: is_promoted, dtype: int64"
            ]
          },
          "metadata": {},
          "execution_count": 54
        }
      ]
    },
    {
      "cell_type": "code",
      "metadata": {
        "colab": {
          "base_uri": "https://localhost:8080/",
          "height": 248
        },
        "id": "DWbN4tTTcUP6",
        "outputId": "fccce4b8-6867-430c-ee34-bbc0152ba811"
      },
      "source": [
        "#distribution of promoted staff\n",
        "df_promoted = df['is_promoted'].value_counts()\n",
        "df_promoted\n",
        "\n",
        "labels = df_promoted.index.tolist()\n",
        "labels\n",
        "\n",
        "plt.pie(df_promoted, labels=labels, autopct='%i%%');"
      ],
      "execution_count": 55,
      "outputs": [
        {
          "output_type": "display_data",
          "data": {
            "image/png": "[encoded data removed]",
            "text/plain": [
              "<Figure size 432x288 with 1 Axes>"
            ]
          },
          "metadata": {}
        }
      ]
    },
    {
      "cell_type": "code",
      "metadata": {
        "colab": {
          "base_uri": "https://localhost:8080/"
        },
        "id": "ohXN7RRkSyUb",
        "outputId": "797f1af1-445b-4356-d702-8f1e2f31bbc5"
      },
      "source": [
        "df.dtypes"
      ],
      "execution_count": 56,
      "outputs": [
        {
          "output_type": "execute_result",
          "data": {
            "text/plain": [
              "employee_id              int64\n",
              "department              object\n",
              "region                  object\n",
              "education               object\n",
              "gender                  object\n",
              "recruitment_channel     object\n",
              "no_of_trainings          int64\n",
              "age                      int64\n",
              "previous_year_rating     int64\n",
              "length_of_service        int64\n",
              "kpis_met >80%            int64\n",
              "awards_won               int64\n",
              "avg_training_score       int64\n",
              "is_promoted              int64\n",
              "dtype: object"
            ]
          },
          "metadata": {},
          "execution_count": 56
        }
      ]
    },
    {
      "cell_type": "code",
      "metadata": {
        "id": "pdgGPu52T7ai"
      },
      "source": [
        "df.describe()\n",
        "\n",
        "non_numeric = ['department','region','education', 'gender']\n",
        "numeric = ['employee_id', 'no_of_trainings','age','previous_year_rating','length_of_service',\n",
        "           'kpis_met >80%','awards_won','avg_training_score','is_promoted' ]"
      ],
      "execution_count": 57,
      "outputs": []
    },
    {
      "cell_type": "code",
      "metadata": {
        "colab": {
          "base_uri": "https://localhost:8080/",
          "height": 175
        },
        "id": "MrdIbXOvVTMW",
        "outputId": "22e24ba3-0f7e-494e-a116-4fefb5e0433b"
      },
      "source": [
        "df[non_numeric].describe()\n",
        "\n",
        "#there are 9 departments, 34 regions, 4 education levels and 2 gender types from the dataframe\n",
        "#most of the employees are in sales & marketing: 16840 from the total \n",
        "#most of the employees are in region 2: 12343 from the total \n",
        "#most of the employees have a bachelor's: 36669 from the total \n",
        "#most of the employees are male: 38496 from the total "
      ],
      "execution_count": 58,
      "outputs": [
        {
          "output_type": "execute_result",
          "data": {
            "text/html": [
              "<div>\n",
              "<style scoped>\n",
              "    .dataframe tbody tr th:only-of-type {\n",
              "        vertical-align: middle;\n",
              "    }\n",
              "\n",
              "    .dataframe tbody tr th {\n",
              "        vertical-align: top;\n",
              "    }\n",
              "\n",
              "    .dataframe thead th {\n",
              "        text-align: right;\n",
              "    }\n",
              "</style>\n",
              "<table border=\"1\" class=\"dataframe\">\n",
              "  <thead>\n",
              "    <tr style=\"text-align: right;\">\n",
              "      <th></th>\n",
              "      <th>department</th>\n",
              "      <th>region</th>\n",
              "      <th>education</th>\n",
              "      <th>gender</th>\n",
              "    </tr>\n",
              "  </thead>\n",
              "  <tbody>\n",
              "    <tr>\n",
              "      <th>count</th>\n",
              "      <td>54808</td>\n",
              "      <td>54808</td>\n",
              "      <td>54808</td>\n",
              "      <td>54808</td>\n",
              "    </tr>\n",
              "    <tr>\n",
              "      <th>unique</th>\n",
              "      <td>9</td>\n",
              "      <td>34</td>\n",
              "      <td>3</td>\n",
              "      <td>2</td>\n",
              "    </tr>\n",
              "    <tr>\n",
              "      <th>top</th>\n",
              "      <td>Sales &amp; Marketing</td>\n",
              "      <td>region_2</td>\n",
              "      <td>Bachelor's</td>\n",
              "      <td>m</td>\n",
              "    </tr>\n",
              "    <tr>\n",
              "      <th>freq</th>\n",
              "      <td>16840</td>\n",
              "      <td>12343</td>\n",
              "      <td>39078</td>\n",
              "      <td>38496</td>\n",
              "    </tr>\n",
              "  </tbody>\n",
              "</table>\n",
              "</div>"
            ],
            "text/plain": [
              "               department    region   education gender\n",
              "count               54808     54808       54808  54808\n",
              "unique                  9        34           3      2\n",
              "top     Sales & Marketing  region_2  Bachelor's      m\n",
              "freq                16840     12343       39078  38496"
            ]
          },
          "metadata": {},
          "execution_count": 58
        }
      ]
    },
    {
      "cell_type": "code",
      "metadata": {
        "colab": {
          "base_uri": "https://localhost:8080/",
          "height": 337
        },
        "id": "-h3L2E1IWN-a",
        "outputId": "161fed05-80c6-4c5b-c83b-3a879ef09df9"
      },
      "source": [
        "df[numeric].describe()\n",
        "\n",
        "#most of the employees have been trained once \n",
        "#average age of employees is 34\n",
        "#average rating for most employees is 3 \n",
        "#average number of years served is 5\n",
        "#most employees haven't reached the KPI score required\n",
        "#most employees haven't received an award"
      ],
      "execution_count": 59,
      "outputs": [
        {
          "output_type": "execute_result",
          "data": {
            "text/html": [
              "<div>\n",
              "<style scoped>\n",
              "    .dataframe tbody tr th:only-of-type {\n",
              "        vertical-align: middle;\n",
              "    }\n",
              "\n",
              "    .dataframe tbody tr th {\n",
              "        vertical-align: top;\n",
              "    }\n",
              "\n",
              "    .dataframe thead th {\n",
              "        text-align: right;\n",
              "    }\n",
              "</style>\n",
              "<table border=\"1\" class=\"dataframe\">\n",
              "  <thead>\n",
              "    <tr style=\"text-align: right;\">\n",
              "      <th></th>\n",
              "      <th>employee_id</th>\n",
              "      <th>no_of_trainings</th>\n",
              "      <th>age</th>\n",
              "      <th>previous_year_rating</th>\n",
              "      <th>length_of_service</th>\n",
              "      <th>kpis_met &gt;80%</th>\n",
              "      <th>awards_won</th>\n",
              "      <th>avg_training_score</th>\n",
              "      <th>is_promoted</th>\n",
              "    </tr>\n",
              "  </thead>\n",
              "  <tbody>\n",
              "    <tr>\n",
              "      <th>count</th>\n",
              "      <td>54808.000000</td>\n",
              "      <td>54808.000000</td>\n",
              "      <td>54808.000000</td>\n",
              "      <td>54808.000000</td>\n",
              "      <td>54808.000000</td>\n",
              "      <td>54808.000000</td>\n",
              "      <td>54808.000000</td>\n",
              "      <td>54808.000000</td>\n",
              "      <td>54808.000000</td>\n",
              "    </tr>\n",
              "    <tr>\n",
              "      <th>mean</th>\n",
              "      <td>39195.830627</td>\n",
              "      <td>1.253011</td>\n",
              "      <td>34.803915</td>\n",
              "      <td>3.304481</td>\n",
              "      <td>5.865512</td>\n",
              "      <td>0.351974</td>\n",
              "      <td>0.023172</td>\n",
              "      <td>63.386750</td>\n",
              "      <td>0.085170</td>\n",
              "    </tr>\n",
              "    <tr>\n",
              "      <th>std</th>\n",
              "      <td>22586.581449</td>\n",
              "      <td>0.609264</td>\n",
              "      <td>7.660169</td>\n",
              "      <td>1.214770</td>\n",
              "      <td>4.265094</td>\n",
              "      <td>0.477590</td>\n",
              "      <td>0.150450</td>\n",
              "      <td>13.371559</td>\n",
              "      <td>0.279137</td>\n",
              "    </tr>\n",
              "    <tr>\n",
              "      <th>min</th>\n",
              "      <td>1.000000</td>\n",
              "      <td>1.000000</td>\n",
              "      <td>20.000000</td>\n",
              "      <td>1.000000</td>\n",
              "      <td>1.000000</td>\n",
              "      <td>0.000000</td>\n",
              "      <td>0.000000</td>\n",
              "      <td>39.000000</td>\n",
              "      <td>0.000000</td>\n",
              "    </tr>\n",
              "    <tr>\n",
              "      <th>25%</th>\n",
              "      <td>19669.750000</td>\n",
              "      <td>1.000000</td>\n",
              "      <td>29.000000</td>\n",
              "      <td>3.000000</td>\n",
              "      <td>3.000000</td>\n",
              "      <td>0.000000</td>\n",
              "      <td>0.000000</td>\n",
              "      <td>51.000000</td>\n",
              "      <td>0.000000</td>\n",
              "    </tr>\n",
              "    <tr>\n",
              "      <th>50%</th>\n",
              "      <td>39225.500000</td>\n",
              "      <td>1.000000</td>\n",
              "      <td>33.000000</td>\n",
              "      <td>3.000000</td>\n",
              "      <td>5.000000</td>\n",
              "      <td>0.000000</td>\n",
              "      <td>0.000000</td>\n",
              "      <td>60.000000</td>\n",
              "      <td>0.000000</td>\n",
              "    </tr>\n",
              "    <tr>\n",
              "      <th>75%</th>\n",
              "      <td>58730.500000</td>\n",
              "      <td>1.000000</td>\n",
              "      <td>39.000000</td>\n",
              "      <td>4.000000</td>\n",
              "      <td>7.000000</td>\n",
              "      <td>1.000000</td>\n",
              "      <td>0.000000</td>\n",
              "      <td>76.000000</td>\n",
              "      <td>0.000000</td>\n",
              "    </tr>\n",
              "    <tr>\n",
              "      <th>max</th>\n",
              "      <td>78298.000000</td>\n",
              "      <td>10.000000</td>\n",
              "      <td>60.000000</td>\n",
              "      <td>5.000000</td>\n",
              "      <td>37.000000</td>\n",
              "      <td>1.000000</td>\n",
              "      <td>1.000000</td>\n",
              "      <td>99.000000</td>\n",
              "      <td>1.000000</td>\n",
              "    </tr>\n",
              "  </tbody>\n",
              "</table>\n",
              "</div>"
            ],
            "text/plain": [
              "        employee_id  no_of_trainings           age  previous_year_rating  \\\n",
              "count  54808.000000     54808.000000  54808.000000          54808.000000   \n",
              "mean   39195.830627         1.253011     34.803915              3.304481   \n",
              "std    22586.581449         0.609264      7.660169              1.214770   \n",
              "min        1.000000         1.000000     20.000000              1.000000   \n",
              "25%    19669.750000         1.000000     29.000000              3.000000   \n",
              "50%    39225.500000         1.000000     33.000000              3.000000   \n",
              "75%    58730.500000         1.000000     39.000000              4.000000   \n",
              "max    78298.000000        10.000000     60.000000              5.000000   \n",
              "\n",
              "       length_of_service  kpis_met >80%    awards_won  avg_training_score  \\\n",
              "count       54808.000000   54808.000000  54808.000000        54808.000000   \n",
              "mean            5.865512       0.351974      0.023172           63.386750   \n",
              "std             4.265094       0.477590      0.150450           13.371559   \n",
              "min             1.000000       0.000000      0.000000           39.000000   \n",
              "25%             3.000000       0.000000      0.000000           51.000000   \n",
              "50%             5.000000       0.000000      0.000000           60.000000   \n",
              "75%             7.000000       1.000000      0.000000           76.000000   \n",
              "max            37.000000       1.000000      1.000000           99.000000   \n",
              "\n",
              "        is_promoted  \n",
              "count  54808.000000  \n",
              "mean       0.085170  \n",
              "std        0.279137  \n",
              "min        0.000000  \n",
              "25%        0.000000  \n",
              "50%        0.000000  \n",
              "75%        0.000000  \n",
              "max        1.000000  "
            ]
          },
          "metadata": {},
          "execution_count": 59
        }
      ]
    },
    {
      "cell_type": "code",
      "metadata": {
        "colab": {
          "base_uri": "https://localhost:8080/",
          "height": 421
        },
        "id": "Bid2BDuYdG6Q",
        "outputId": "edb140a0-726a-463f-b065-86e5222daee6"
      },
      "source": [
        "#group and filter data \n",
        "promoted = df[(df['is_promoted'] == 1)]\n",
        "summary_gender = promoted.groupby(['gender'], as_index=False)['is_promoted'].count()\n",
        "\n",
        "#bar plots of department by is_promoted\n",
        "fig, axes = plt.subplots(nrows = 1, ncols = 1, figsize = (20, 6))\n",
        "\n",
        "plt.subplot(1, 2, 1)\n",
        "sns.barplot(data = summary_gender, x = 'gender', y = 'is_promoted')\n",
        "plt.title('Bar plot of promoted staff by gender')\n",
        "\n",
        "#most male staff are promoted "
      ],
      "execution_count": 60,
      "outputs": [
        {
          "output_type": "execute_result",
          "data": {
            "text/plain": [
              "Text(0.5, 1.0, 'Bar plot of promoted staff by gender')"
            ]
          },
          "metadata": {},
          "execution_count": 60
        },
        {
          "output_type": "display_data",
          "data": {
            "image/png": "[encoded data removed]",
            "text/plain": [
              "<Figure size 1440x432 with 1 Axes>"
            ]
          },
          "metadata": {
            "needs_background": "light"
          }
        }
      ]
    },
    {
      "cell_type": "code",
      "metadata": {
        "colab": {
          "base_uri": "https://localhost:8080/",
          "height": 421
        },
        "id": "JBN04MtRgIRV",
        "outputId": "2f8f3f51-11ed-4041-a823-b467fb0640e4"
      },
      "source": [
        "#group and filter data \n",
        "summary_department = promoted.groupby(['department'], as_index=False)['is_promoted'].count().sort_values(by='is_promoted', ascending=False)\n",
        "\n",
        "#bar plots of department by is_promoted\n",
        "fig, axes = plt.subplots(nrows = 1, ncols = 1, figsize = (25, 6))\n",
        "\n",
        "plt.subplot(1, 2, 1)\n",
        "sns.barplot(data = summary_department, x = 'department', y = 'is_promoted')\n",
        "plt.title('Bar plot of promoted staff by department')\n",
        "\n",
        "#most sales & marketing staff are promoted "
      ],
      "execution_count": 61,
      "outputs": [
        {
          "output_type": "execute_result",
          "data": {
            "text/plain": [
              "Text(0.5, 1.0, 'Bar plot of promoted staff by department')"
            ]
          },
          "metadata": {},
          "execution_count": 61
        },
        {
          "output_type": "display_data",
          "data": {
            "image/png": "[encoded data removed]",
            "text/plain": [
              "<Figure size 1800x432 with 1 Axes>"
            ]
          },
          "metadata": {
            "needs_background": "light"
          }
        }
      ]
    },
    {
      "cell_type": "code",
      "metadata": {
        "colab": {
          "base_uri": "https://localhost:8080/",
          "height": 495
        },
        "id": "UTgdiIs4hQe0",
        "outputId": "4d69d5a5-598d-4009-f56e-5e903c8fa3c7"
      },
      "source": [
        "#group and filter data \n",
        "summary_region= promoted.groupby(['region'], as_index=False)['is_promoted'].count().sort_values(by='is_promoted', ascending=False)\n",
        "\n",
        "#bar plots of region by is_promoted\n",
        "fig, axes = plt.subplots(nrows = 1, ncols = 1, figsize = (25, 6))\n",
        "\n",
        "plt.subplot(1, 2, 1)\n",
        "sns.barplot(data = summary_region, x = 'region', y = 'is_promoted')\n",
        "plt.title('Bar plot of promoted staff by region')\n",
        "plt.xticks(rotation=90)\n",
        "\n",
        "#most region 2 staff are promoted \n"
      ],
      "execution_count": 62,
      "outputs": [
        {
          "output_type": "execute_result",
          "data": {
            "text/plain": [
              "(array([ 0,  1,  2,  3,  4,  5,  6,  7,  8,  9, 10, 11, 12, 13, 14, 15, 16,\n",
              "        17, 18, 19, 20, 21, 22, 23, 24, 25, 26, 27, 28, 29, 30, 31, 32, 33]),\n",
              " <a list of 34 Text major ticklabel objects>)"
            ]
          },
          "metadata": {},
          "execution_count": 62
        },
        {
          "output_type": "display_data",
          "data": {
            "image/png": "[encoded data removed]",
            "text/plain": [
              "<Figure size 1800x432 with 1 Axes>"
            ]
          },
          "metadata": {
            "needs_background": "light"
          }
        }
      ]
    },
    {
      "cell_type": "code",
      "metadata": {
        "colab": {
          "base_uri": "https://localhost:8080/",
          "height": 479
        },
        "id": "FuloteNzh6KF",
        "outputId": "9051de84-0a3e-459b-d92d-79a564d1d746"
      },
      "source": [
        "#group and filter data \n",
        "summary_education= promoted.groupby(['education'], as_index=False)['is_promoted'].count().sort_values(by='is_promoted', ascending=False)\n",
        "\n",
        "#bar plots of education by is_promoted\n",
        "fig, axes = plt.subplots(nrows = 1, ncols = 1, figsize = (25, 6))\n",
        "\n",
        "plt.subplot(1, 2, 1)\n",
        "sns.barplot(data = summary_education, x = 'education', y = 'is_promoted')\n",
        "plt.title('Bar plot of promoted staff by education')\n",
        "plt.xticks(rotation=45)\n",
        "\n",
        "#most bachelors holder staff are promoted "
      ],
      "execution_count": 63,
      "outputs": [
        {
          "output_type": "execute_result",
          "data": {
            "text/plain": [
              "(array([0, 1, 2]), <a list of 3 Text major ticklabel objects>)"
            ]
          },
          "metadata": {},
          "execution_count": 63
        },
        {
          "output_type": "display_data",
          "data": {
            "image/png": "[encoded data removed]",
            "text/plain": [
              "<Figure size 1800x432 with 1 Axes>"
            ]
          },
          "metadata": {
            "needs_background": "light"
          }
        }
      ]
    },
    {
      "cell_type": "markdown",
      "metadata": {
        "id": "NQTTZBxbjvB2"
      },
      "source": [
        "### 2.3. Machine Learning"
      ]
    },
    {
      "cell_type": "code",
      "metadata": {
        "colab": {
          "base_uri": "https://localhost:8080/"
        },
        "id": "AdAlvzTPqgtu",
        "outputId": "bc9a4df9-11c1-481b-f755-9d254e6ce584"
      },
      "source": [
        "#split into three parts: training, validation, and test\n",
        "df_train = df[0:32884]\n",
        "df_valid = df[32884:43846]\n",
        "df_test = df[43846:54808]\n",
        "\n",
        "#confirm size of datasets\n",
        "print(df_train.shape)\n",
        "print(df_valid.shape)\n",
        "print(df_test.shape)"
      ],
      "execution_count": 64,
      "outputs": [
        {
          "output_type": "stream",
          "name": "stdout",
          "text": [
            "(32884, 14)\n",
            "(10962, 14)\n",
            "(10962, 14)\n"
          ]
        }
      ]
    },
    {
      "cell_type": "code",
      "metadata": {
        "colab": {
          "base_uri": "https://localhost:8080/"
        },
        "id": "L2Q9cemmDD2T",
        "outputId": "1464cce1-4cfd-4575-b890-f9b54b5eaf1b"
      },
      "source": [
        "#import decision tree from sklearn library\n",
        "from sklearn.tree import DecisionTreeClassifier\n",
        "\n",
        "#creates a training dataset to be used \n",
        "features = df_train[['no_of_trainings','age','previous_year_rating','length_of_service',\n",
        "           'kpis_met >80%','awards_won','avg_training_score' ]]\n",
        "\n",
        "#Use is promoted as the target for my dataset\n",
        "target = df_train['is_promoted']          \n",
        "\n",
        "#create a model and assign it to a variable \n",
        "model = DecisionTreeClassifier(random_state=12345, max_depth=5)\n",
        "\n",
        "#max_depth will optimize the model, and will define the number of trees to be used to prevent overfitting or underfitting\n",
        "#determine whether to use it \n",
        "\n",
        "#train a model by calling the fit() method \n",
        "model.fit(features,target)\n",
        "\n",
        "#predict answers and print results \n",
        "train_predictions = model.predict(features)\n",
        "print(train_predictions)"
      ],
      "execution_count": 67,
      "outputs": [
        {
          "output_type": "stream",
          "name": "stdout",
          "text": [
            "[0 0 0 ... 0 0 0]\n"
          ]
        }
      ]
    },
    {
      "cell_type": "code",
      "metadata": {
        "colab": {
          "base_uri": "https://localhost:8080/"
        },
        "id": "58LTEmrfLee_",
        "outputId": "a19883d9-70f4-4743-fd87-00b3514f837b"
      },
      "source": [
        "#creates a test training dataset to be used \n",
        "test_features = df_test[['no_of_trainings','age','previous_year_rating','length_of_service',\n",
        "           'kpis_met >80%','awards_won','avg_training_score' ]]\n",
        "\n",
        "#create test target \n",
        "test_target = df_test['is_promoted']  \n",
        "\n",
        "#predict answers and print results \n",
        "test_predictions = model.predict(test_features)\n",
        "print(test_predictions)\n"
      ],
      "execution_count": 69,
      "outputs": [
        {
          "output_type": "stream",
          "name": "stdout",
          "text": [
            "[0 0 0 ... 0 0 0]\n"
          ]
        }
      ]
    },
    {
      "cell_type": "code",
      "metadata": {
        "colab": {
          "base_uri": "https://localhost:8080/"
        },
        "id": "VZ9RNZ9ZYTF6",
        "outputId": "a6d35014-bdbb-4908-a6b2-ac16f22c5150"
      },
      "source": [
        "#evaluation metric in sklearn library\n",
        "from sklearn.metrics import accuracy_score \n",
        "\n",
        "Accuracy = accuracy_score(target,train_predictions)\n",
        "\n",
        "print('Accuracy:',accuracy_score(target,train_predictions))\n",
        "print('Test_ Accuracy', accuracy_score(test_target, test_predictions))\n",
        "print('Training set:',train_predictions)\n",
        "print('Test set:', test_predictions)\n",
        "\n",
        "#accuracy score is high for both training and test dataset at max depth of 5\n"
      ],
      "execution_count": 70,
      "outputs": [
        {
          "output_type": "stream",
          "name": "stdout",
          "text": [
            "Accuracy: 0.925830190974334\n",
            "Test_ Accuracy 0.9241926655719759\n",
            "Training set: [0 0 0 ... 0 0 0]\n",
            "Test set: [0 0 0 ... 0 0 0]\n"
          ]
        }
      ]
    },
    {
      "cell_type": "code",
      "metadata": {
        "colab": {
          "base_uri": "https://localhost:8080/"
        },
        "id": "13vlfMi4ccjE",
        "outputId": "b56b7237-ac3e-4034-951c-d08245e97b3c"
      },
      "source": [
        "#on the training dataset while tuning model hyperparameters.\n",
        "#validation to show how the model will act in the field to help reveal overfitting\n",
        "\n",
        "'''\n",
        "Declare 4 variables:\n",
        "-features: features_train and features_valid\n",
        "-target feature: target_train and target_valid\n",
        "'''\n",
        "#valid\n",
        "features_valid = df_valid[['no_of_trainings','age','previous_year_rating','length_of_service',\n",
        "           'kpis_met >80%','awards_won','avg_training_score' ]]\n",
        "target_valid = df_valid['is_promoted']\n",
        "\n",
        "#confirm size of datasets\n",
        "print(target.shape)\n",
        "print(features.shape)\n",
        "print(features_valid.shape)\n",
        "print(target_valid.shape)"
      ],
      "execution_count": 72,
      "outputs": [
        {
          "output_type": "stream",
          "name": "stdout",
          "text": [
            "(32884,)\n",
            "(32884, 7)\n",
            "(10962, 7)\n",
            "(10962,)\n"
          ]
        }
      ]
    },
    {
      "cell_type": "code",
      "metadata": {
        "colab": {
          "base_uri": "https://localhost:8080/"
        },
        "id": "sAHrn-1QkQUP",
        "outputId": "a2a2deda-1d55-4a50-f5dc-148f980a00fd"
      },
      "source": [
        "#Tuning Hyperparameters\n",
        "\n",
        "for depth in range (1,14):\n",
        "  model = DecisionTreeClassifier(max_depth=depth)\n",
        "  #training the model\n",
        "  model.fit(features,target)\n",
        "  #find predictions using validation set \n",
        "  predictions_valid=model.predict(features_valid)\n",
        "\n",
        "  print(\"max_depth =\", depth, \": \", end =' ')\n",
        "  print(accuracy_score(target_valid, predictions_valid))\n",
        "\n",
        "#max_depth 5 is the most approriate since it has highest accuracy"
      ],
      "execution_count": 73,
      "outputs": [
        {
          "output_type": "stream",
          "name": "stdout",
          "text": [
            "max_depth = 1 :  0.9203612479474549\n",
            "max_depth = 2 :  0.9203612479474549\n",
            "max_depth = 3 :  0.9203612479474549\n",
            "max_depth = 4 :  0.9232804232804233\n",
            "max_depth = 5 :  0.9234628717387338\n",
            "max_depth = 6 :  0.9223681809888706\n",
            "max_depth = 7 :  0.9216383871556285\n",
            "max_depth = 8 :  0.9215471629264733\n",
            "max_depth = 9 :  0.9212734902390075\n",
            "max_depth = 10 :  0.921455938697318\n",
            "max_depth = 11 :  0.9191753329684365\n",
            "max_depth = 12 :  0.9172596241561759\n",
            "max_depth = 13 :  0.9168947272395548\n"
          ]
        }
      ]
    },
    {
      "cell_type": "markdown",
      "metadata": {
        "id": "AAwpMEn_qEfD"
      },
      "source": [
        "### 2.4. Predictions"
      ]
    },
    {
      "cell_type": "code",
      "metadata": {
        "colab": {
          "base_uri": "https://localhost:8080/",
          "height": 135
        },
        "id": "1qn8nCA6X3Fy",
        "outputId": "cb837cbc-db7f-4fa3-b1b5-9ef6502bbdd8"
      },
      "source": [
        "df.head(1)"
      ],
      "execution_count": 86,
      "outputs": [
        {
          "output_type": "execute_result",
          "data": {
            "text/html": [
              "<div>\n",
              "<style scoped>\n",
              "    .dataframe tbody tr th:only-of-type {\n",
              "        vertical-align: middle;\n",
              "    }\n",
              "\n",
              "    .dataframe tbody tr th {\n",
              "        vertical-align: top;\n",
              "    }\n",
              "\n",
              "    .dataframe thead th {\n",
              "        text-align: right;\n",
              "    }\n",
              "</style>\n",
              "<table border=\"1\" class=\"dataframe\">\n",
              "  <thead>\n",
              "    <tr style=\"text-align: right;\">\n",
              "      <th></th>\n",
              "      <th>employee_id</th>\n",
              "      <th>department</th>\n",
              "      <th>region</th>\n",
              "      <th>education</th>\n",
              "      <th>gender</th>\n",
              "      <th>recruitment_channel</th>\n",
              "      <th>no_of_trainings</th>\n",
              "      <th>age</th>\n",
              "      <th>previous_year_rating</th>\n",
              "      <th>length_of_service</th>\n",
              "      <th>kpis_met &gt;80%</th>\n",
              "      <th>awards_won</th>\n",
              "      <th>avg_training_score</th>\n",
              "      <th>is_promoted</th>\n",
              "    </tr>\n",
              "  </thead>\n",
              "  <tbody>\n",
              "    <tr>\n",
              "      <th>0</th>\n",
              "      <td>65438</td>\n",
              "      <td>Sales &amp; Marketing</td>\n",
              "      <td>region_7</td>\n",
              "      <td>Master's &amp; above</td>\n",
              "      <td>f</td>\n",
              "      <td>sourcing</td>\n",
              "      <td>1</td>\n",
              "      <td>35</td>\n",
              "      <td>5</td>\n",
              "      <td>8</td>\n",
              "      <td>1</td>\n",
              "      <td>0</td>\n",
              "      <td>49</td>\n",
              "      <td>0</td>\n",
              "    </tr>\n",
              "  </tbody>\n",
              "</table>\n",
              "</div>"
            ],
            "text/plain": [
              "   employee_id         department    region         education gender  \\\n",
              "0        65438  Sales & Marketing  region_7  Master's & above      f   \n",
              "\n",
              "  recruitment_channel  no_of_trainings  age  previous_year_rating  \\\n",
              "0            sourcing                1   35                     5   \n",
              "\n",
              "   length_of_service  kpis_met >80%  awards_won  avg_training_score  \\\n",
              "0                  8              1           0                  49   \n",
              "\n",
              "   is_promoted  \n",
              "0            0  "
            ]
          },
          "metadata": {},
          "execution_count": 86
        }
      ]
    },
    {
      "cell_type": "code",
      "metadata": {
        "colab": {
          "base_uri": "https://localhost:8080/",
          "height": 295
        },
        "id": "74ZaRy84an34",
        "outputId": "6edc4724-16b9-45b1-c096-de7d9e37747f"
      },
      "source": [
        "#check with predict poba\n",
        "y_test = model.predict(features)\n",
        "y_test_prob = model.predict_proba(features)\n",
        "y_test_prob\n",
        "\n",
        "prediction_result = pd.DataFrame(data={'id':df_train['employee_id'],'region':df_train['region'],'gender':df_train['gender'],'education':df_train['education'],'department':df_train['department'],'no_of_trainings':df_train['no_of_trainings'],'awards_won':df_train['awards_won'], 'previous_year_rating':df_train['previous_year_rating'], 'prediction':y_test, \"probability\":y_test_prob[:,1]})\n",
        "prediction_result.sort_values(by='prediction',ascending =False).head()\n"
      ],
      "execution_count": 88,
      "outputs": [
        {
          "output_type": "execute_result",
          "data": {
            "text/html": [
              "<div>\n",
              "<style scoped>\n",
              "    .dataframe tbody tr th:only-of-type {\n",
              "        vertical-align: middle;\n",
              "    }\n",
              "\n",
              "    .dataframe tbody tr th {\n",
              "        vertical-align: top;\n",
              "    }\n",
              "\n",
              "    .dataframe thead th {\n",
              "        text-align: right;\n",
              "    }\n",
              "</style>\n",
              "<table border=\"1\" class=\"dataframe\">\n",
              "  <thead>\n",
              "    <tr style=\"text-align: right;\">\n",
              "      <th></th>\n",
              "      <th>id</th>\n",
              "      <th>region</th>\n",
              "      <th>gender</th>\n",
              "      <th>education</th>\n",
              "      <th>department</th>\n",
              "      <th>no_of_trainings</th>\n",
              "      <th>awards_won</th>\n",
              "      <th>previous_year_rating</th>\n",
              "      <th>prediction</th>\n",
              "      <th>probability</th>\n",
              "    </tr>\n",
              "  </thead>\n",
              "  <tbody>\n",
              "    <tr>\n",
              "      <th>3468</th>\n",
              "      <td>70507</td>\n",
              "      <td>region_2</td>\n",
              "      <td>f</td>\n",
              "      <td>Master's &amp; above</td>\n",
              "      <td>Sales &amp; Marketing</td>\n",
              "      <td>2</td>\n",
              "      <td>0</td>\n",
              "      <td>3</td>\n",
              "      <td>1</td>\n",
              "      <td>0.6</td>\n",
              "    </tr>\n",
              "    <tr>\n",
              "      <th>3467</th>\n",
              "      <td>57593</td>\n",
              "      <td>region_23</td>\n",
              "      <td>m</td>\n",
              "      <td>Master's &amp; above</td>\n",
              "      <td>Technology</td>\n",
              "      <td>1</td>\n",
              "      <td>0</td>\n",
              "      <td>1</td>\n",
              "      <td>1</td>\n",
              "      <td>1.0</td>\n",
              "    </tr>\n",
              "    <tr>\n",
              "      <th>23549</th>\n",
              "      <td>69187</td>\n",
              "      <td>region_2</td>\n",
              "      <td>m</td>\n",
              "      <td>Bachelor's</td>\n",
              "      <td>Procurement</td>\n",
              "      <td>1</td>\n",
              "      <td>1</td>\n",
              "      <td>5</td>\n",
              "      <td>1</td>\n",
              "      <td>1.0</td>\n",
              "    </tr>\n",
              "    <tr>\n",
              "      <th>9598</th>\n",
              "      <td>11560</td>\n",
              "      <td>region_22</td>\n",
              "      <td>m</td>\n",
              "      <td>Bachelor's</td>\n",
              "      <td>Sales &amp; Marketing</td>\n",
              "      <td>1</td>\n",
              "      <td>0</td>\n",
              "      <td>5</td>\n",
              "      <td>1</td>\n",
              "      <td>1.0</td>\n",
              "    </tr>\n",
              "    <tr>\n",
              "      <th>15493</th>\n",
              "      <td>70312</td>\n",
              "      <td>region_7</td>\n",
              "      <td>f</td>\n",
              "      <td>Master's &amp; above</td>\n",
              "      <td>Procurement</td>\n",
              "      <td>1</td>\n",
              "      <td>0</td>\n",
              "      <td>3</td>\n",
              "      <td>1</td>\n",
              "      <td>1.0</td>\n",
              "    </tr>\n",
              "  </tbody>\n",
              "</table>\n",
              "</div>"
            ],
            "text/plain": [
              "          id     region gender         education         department  \\\n",
              "3468   70507   region_2      f  Master's & above  Sales & Marketing   \n",
              "3467   57593  region_23      m  Master's & above         Technology   \n",
              "23549  69187   region_2      m        Bachelor's        Procurement   \n",
              "9598   11560  region_22      m        Bachelor's  Sales & Marketing   \n",
              "15493  70312   region_7      f  Master's & above        Procurement   \n",
              "\n",
              "       no_of_trainings  awards_won  previous_year_rating  prediction  \\\n",
              "3468                 2           0                     3           1   \n",
              "3467                 1           0                     1           1   \n",
              "23549                1           1                     5           1   \n",
              "9598                 1           0                     5           1   \n",
              "15493                1           0                     3           1   \n",
              "\n",
              "       probability  \n",
              "3468           0.6  \n",
              "3467           1.0  \n",
              "23549          1.0  \n",
              "9598           1.0  \n",
              "15493          1.0  "
            ]
          },
          "metadata": {},
          "execution_count": 88
        }
      ]
    },
    {
      "cell_type": "code",
      "metadata": {
        "colab": {
          "base_uri": "https://localhost:8080/",
          "height": 112
        },
        "id": "Sq6cbtEcIXDo",
        "outputId": "c454936a-15f6-4f60-c486-f47da6e45a87"
      },
      "source": [
        "prediction_promoted = prediction_result[(prediction_result['prediction'] == 1)]\n",
        "prediction_gender = prediction_promoted.groupby(['gender'], as_index=False)['prediction'].count()\n",
        "prediction_gender\n",
        "\n",
        "#from the train dataset more male staff are likely to be promoted"
      ],
      "execution_count": 76,
      "outputs": [
        {
          "output_type": "execute_result",
          "data": {
            "text/html": [
              "<div>\n",
              "<style scoped>\n",
              "    .dataframe tbody tr th:only-of-type {\n",
              "        vertical-align: middle;\n",
              "    }\n",
              "\n",
              "    .dataframe tbody tr th {\n",
              "        vertical-align: top;\n",
              "    }\n",
              "\n",
              "    .dataframe thead th {\n",
              "        text-align: right;\n",
              "    }\n",
              "</style>\n",
              "<table border=\"1\" class=\"dataframe\">\n",
              "  <thead>\n",
              "    <tr style=\"text-align: right;\">\n",
              "      <th></th>\n",
              "      <th>gender</th>\n",
              "      <th>prediction</th>\n",
              "    </tr>\n",
              "  </thead>\n",
              "  <tbody>\n",
              "    <tr>\n",
              "      <th>0</th>\n",
              "      <td>f</td>\n",
              "      <td>243</td>\n",
              "    </tr>\n",
              "    <tr>\n",
              "      <th>1</th>\n",
              "      <td>m</td>\n",
              "      <td>530</td>\n",
              "    </tr>\n",
              "  </tbody>\n",
              "</table>\n",
              "</div>"
            ],
            "text/plain": [
              "  gender  prediction\n",
              "0      f         243\n",
              "1      m         530"
            ]
          },
          "metadata": {},
          "execution_count": 76
        }
      ]
    },
    {
      "cell_type": "code",
      "metadata": {
        "colab": {
          "base_uri": "https://localhost:8080/",
          "height": 206
        },
        "id": "ERpV8JB1JBYQ",
        "outputId": "bdabab4a-0fbf-4601-8f3a-f9130034c3fc"
      },
      "source": [
        "prediction_region = prediction_promoted.groupby(['region'], as_index=False)['prediction'].count()\n",
        "prediction_region.sort_values(by='prediction',ascending =False).head()\n",
        "\n",
        "#from the train dataset more region 2 staff are likely to be promoted"
      ],
      "execution_count": 80,
      "outputs": [
        {
          "output_type": "execute_result",
          "data": {
            "text/html": [
              "<div>\n",
              "<style scoped>\n",
              "    .dataframe tbody tr th:only-of-type {\n",
              "        vertical-align: middle;\n",
              "    }\n",
              "\n",
              "    .dataframe tbody tr th {\n",
              "        vertical-align: top;\n",
              "    }\n",
              "\n",
              "    .dataframe thead th {\n",
              "        text-align: right;\n",
              "    }\n",
              "</style>\n",
              "<table border=\"1\" class=\"dataframe\">\n",
              "  <thead>\n",
              "    <tr style=\"text-align: right;\">\n",
              "      <th></th>\n",
              "      <th>region</th>\n",
              "      <th>prediction</th>\n",
              "    </tr>\n",
              "  </thead>\n",
              "  <tbody>\n",
              "    <tr>\n",
              "      <th>10</th>\n",
              "      <td>region_2</td>\n",
              "      <td>184</td>\n",
              "    </tr>\n",
              "    <tr>\n",
              "      <th>13</th>\n",
              "      <td>region_22</td>\n",
              "      <td>113</td>\n",
              "    </tr>\n",
              "    <tr>\n",
              "      <th>29</th>\n",
              "      <td>region_7</td>\n",
              "      <td>85</td>\n",
              "    </tr>\n",
              "    <tr>\n",
              "      <th>4</th>\n",
              "      <td>region_13</td>\n",
              "      <td>45</td>\n",
              "    </tr>\n",
              "    <tr>\n",
              "      <th>26</th>\n",
              "      <td>region_4</td>\n",
              "      <td>36</td>\n",
              "    </tr>\n",
              "  </tbody>\n",
              "</table>\n",
              "</div>"
            ],
            "text/plain": [
              "       region  prediction\n",
              "10   region_2         184\n",
              "13  region_22         113\n",
              "29   region_7          85\n",
              "4   region_13          45\n",
              "26   region_4          36"
            ]
          },
          "metadata": {},
          "execution_count": 80
        }
      ]
    },
    {
      "cell_type": "code",
      "metadata": {
        "colab": {
          "base_uri": "https://localhost:8080/",
          "height": 143
        },
        "id": "Fd4QxMylJQAy",
        "outputId": "c2d07b8f-ad20-4e98-de66-d47b2bd930fd"
      },
      "source": [
        "prediction_education = prediction_promoted.groupby(['education'], as_index=False)['prediction'].count()\n",
        "prediction_education\n",
        "\n",
        "#from the train dataset more bachelor holder staff are likely to be promoted"
      ],
      "execution_count": 81,
      "outputs": [
        {
          "output_type": "execute_result",
          "data": {
            "text/html": [
              "<div>\n",
              "<style scoped>\n",
              "    .dataframe tbody tr th:only-of-type {\n",
              "        vertical-align: middle;\n",
              "    }\n",
              "\n",
              "    .dataframe tbody tr th {\n",
              "        vertical-align: top;\n",
              "    }\n",
              "\n",
              "    .dataframe thead th {\n",
              "        text-align: right;\n",
              "    }\n",
              "</style>\n",
              "<table border=\"1\" class=\"dataframe\">\n",
              "  <thead>\n",
              "    <tr style=\"text-align: right;\">\n",
              "      <th></th>\n",
              "      <th>education</th>\n",
              "      <th>prediction</th>\n",
              "    </tr>\n",
              "  </thead>\n",
              "  <tbody>\n",
              "    <tr>\n",
              "      <th>0</th>\n",
              "      <td>Bachelor's</td>\n",
              "      <td>489</td>\n",
              "    </tr>\n",
              "    <tr>\n",
              "      <th>1</th>\n",
              "      <td>Below Secondary</td>\n",
              "      <td>7</td>\n",
              "    </tr>\n",
              "    <tr>\n",
              "      <th>2</th>\n",
              "      <td>Master's &amp; above</td>\n",
              "      <td>277</td>\n",
              "    </tr>\n",
              "  </tbody>\n",
              "</table>\n",
              "</div>"
            ],
            "text/plain": [
              "          education  prediction\n",
              "0        Bachelor's         489\n",
              "1   Below Secondary           7\n",
              "2  Master's & above         277"
            ]
          },
          "metadata": {},
          "execution_count": 81
        }
      ]
    },
    {
      "cell_type": "code",
      "metadata": {
        "colab": {
          "base_uri": "https://localhost:8080/",
          "height": 206
        },
        "id": "1xK0onGNJRIZ",
        "outputId": "b28fe20a-40e3-4acf-b041-6c7431c3a63a"
      },
      "source": [
        "prediction_department = prediction_promoted.groupby(['department'], as_index=False)['prediction'].count()\n",
        "prediction_department.sort_values(by='prediction',ascending =False).head()\n",
        "\n",
        "#from the train dataset more staff in sales & marketing are likely to be promoted"
      ],
      "execution_count": 98,
      "outputs": [
        {
          "output_type": "execute_result",
          "data": {
            "text/html": [
              "<div>\n",
              "<style scoped>\n",
              "    .dataframe tbody tr th:only-of-type {\n",
              "        vertical-align: middle;\n",
              "    }\n",
              "\n",
              "    .dataframe tbody tr th {\n",
              "        vertical-align: top;\n",
              "    }\n",
              "\n",
              "    .dataframe thead th {\n",
              "        text-align: right;\n",
              "    }\n",
              "</style>\n",
              "<table border=\"1\" class=\"dataframe\">\n",
              "  <thead>\n",
              "    <tr style=\"text-align: right;\">\n",
              "      <th></th>\n",
              "      <th>department</th>\n",
              "      <th>prediction</th>\n",
              "    </tr>\n",
              "  </thead>\n",
              "  <tbody>\n",
              "    <tr>\n",
              "      <th>7</th>\n",
              "      <td>Sales &amp; Marketing</td>\n",
              "      <td>194</td>\n",
              "    </tr>\n",
              "    <tr>\n",
              "      <th>8</th>\n",
              "      <td>Technology</td>\n",
              "      <td>156</td>\n",
              "    </tr>\n",
              "    <tr>\n",
              "      <th>4</th>\n",
              "      <td>Operations</td>\n",
              "      <td>149</td>\n",
              "    </tr>\n",
              "    <tr>\n",
              "      <th>0</th>\n",
              "      <td>Analytics</td>\n",
              "      <td>107</td>\n",
              "    </tr>\n",
              "    <tr>\n",
              "      <th>5</th>\n",
              "      <td>Procurement</td>\n",
              "      <td>101</td>\n",
              "    </tr>\n",
              "  </tbody>\n",
              "</table>\n",
              "</div>"
            ],
            "text/plain": [
              "          department  prediction\n",
              "7  Sales & Marketing         194\n",
              "8         Technology         156\n",
              "4         Operations         149\n",
              "0          Analytics         107\n",
              "5        Procurement         101"
            ]
          },
          "metadata": {},
          "execution_count": 98
        }
      ]
    },
    {
      "cell_type": "markdown",
      "metadata": {
        "id": "KD2a1jeccBEv"
      },
      "source": [
        "## 3. Summary of Findings and Recommedation"
      ]
    },
    {
      "cell_type": "code",
      "metadata": {
        "colab": {
          "base_uri": "https://localhost:8080/"
        },
        "id": "9FVK_jiyIPCB",
        "outputId": "cd8f8a96-44c2-4919-bff6-8daea1784891"
      },
      "source": [
        "print(\"The number of promoted employees is \" , str(len(prediction_result[prediction_result[\"prediction\"]==1])) , \" from the train dataset\")"
      ],
      "execution_count": 83,
      "outputs": [
        {
          "output_type": "stream",
          "name": "stdout",
          "text": [
            "The number of promoted employees is  773  from the train dataset\n"
          ]
        }
      ]
    },
    {
      "cell_type": "markdown",
      "metadata": {
        "id": "hZn1-mFnKDp8"
      },
      "source": [
        "What are your findings?\n",
        "\n",
        "The task is to predict whether a potential promotee at a checkpoint will be promoted or not after the evaluation process. We can conclude that:-\n",
        "\n",
        "1. from the train dataset more male staff are likely to be promoted\n",
        "2. from the train dataset more region 2 staff are likely to be promoted\n",
        "3. from the train dataset more bachelor holder staff are likely to be promoted\n",
        "4. from the train dataset more staff in sales & marketing are likely to be promoted\n",
        "\n"
      ]
    }
  ]
}